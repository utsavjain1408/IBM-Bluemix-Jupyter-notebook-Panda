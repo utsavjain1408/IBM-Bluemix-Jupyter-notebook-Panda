{
    "cells": [
        {
            "cell_type": "code", 
            "metadata": {}, 
            "source": "\nfrom io import StringIO\nimport requests\nimport json\nimport pandas as pd\n\n# @hidden_cell\n# This function accesses a file in your Object Storage. The definition contains your credentials.\n# You might want to remove those credentials before you share your notebook.\ndef get_object_storage_file_with_credentials_50c277e732e34c2385aa338d22580402(container, filename):\n    \"\"\"This functions returns a StringIO object containing\n    the file content from Bluemix Object Storage.\"\"\"\n\n    url1 = ''.join(['https://identity.open.softlayer.com', '/v3/auth/tokens'])\n    data = {'auth': {'identity': {'methods': ['password'],\n            'password': {'user': {'name': 'member_5fe9b4086ba0ad8b9ee7b4414437dbe8d2c36a6a','domain': {'id': 'ca33c2c181b248f8886a140d4f0db2a9'},\n            'password': 'F#I#tyud.w59q_K4'}}}}}\n    headers1 = {'Content-Type': 'application/json'}\n    resp1 = requests.post(url=url1, data=json.dumps(data), headers=headers1)\n    resp1_body = resp1.json()\n    for e1 in resp1_body['token']['catalog']:\n        if(e1['type']=='object-store'):\n            for e2 in e1['endpoints']:\n                        if(e2['interface']=='public'and e2['region']=='dallas'):\n                            url2 = ''.join([e2['url'],'/', container, '/', filename])\n    s_subject_token = resp1.headers['x-subject-token']\n    headers2 = {'X-Auth-Token': s_subject_token, 'accept': 'application/json'}\n    resp2 = requests.get(url=url2, headers=headers2)\n    return StringIO(resp2.text)\n\n#Adding the seven important columns from Gary Johnson's submission 1\nJS1 = pd.read_csv(get_object_storage_file_with_credentials_50c277e732e34c2385aa338d22580402('DefaultProjectutsavjainsjsuedu', 'JohnsonSubmission1.xlsx - Sheet1.csv'), usecols=[0,2,3,4,5,6,10])\nJS1.head()\n", 
            "outputs": [
                {
                    "metadata": {}, 
                    "output_type": "execute_result", 
                    "data": {
                        "text/html": "<div>\n<table border=\"1\" class=\"dataframe\">\n  <thead>\n    <tr style=\"text-align: right;\">\n      <th></th>\n      <th>First Name</th>\n      <th>Last Name</th>\n      <th>Address</th>\n      <th>City</th>\n      <th>State</th>\n      <th>Zip</th>\n      <th>Amount</th>\n    </tr>\n  </thead>\n  <tbody>\n    <tr>\n      <th>0</th>\n      <td>Damon</td>\n      <td>Chronis</td>\n      <td>5945 Kensington Drive</td>\n      <td>Plano</td>\n      <td>TX</td>\n      <td>75093</td>\n      <td>5,000.00</td>\n    </tr>\n    <tr>\n      <th>1</th>\n      <td>John</td>\n      <td>Rogers</td>\n      <td>1416 paseo la cresta</td>\n      <td>Palos Verdes Estates</td>\n      <td>CA</td>\n      <td>90274</td>\n      <td>5,000.00</td>\n    </tr>\n    <tr>\n      <th>2</th>\n      <td>Stephen</td>\n      <td>Swann</td>\n      <td>4889 SW Greensboro Way  Apt 1</td>\n      <td>Beaverton</td>\n      <td>OR</td>\n      <td>97007</td>\n      <td>5,000.00</td>\n    </tr>\n    <tr>\n      <th>3</th>\n      <td>Kerry</td>\n      <td>Welsh</td>\n      <td>26627 Lightfoot Place</td>\n      <td>RANCHO PALOS VERDES</td>\n      <td>CA</td>\n      <td>90505</td>\n      <td>5,000.00</td>\n    </tr>\n    <tr>\n      <th>4</th>\n      <td>Thomas</td>\n      <td>West</td>\n      <td>2721 Shoal Creek Circle</td>\n      <td>Plano</td>\n      <td>TX</td>\n      <td>75093</td>\n      <td>5,000.00</td>\n    </tr>\n  </tbody>\n</table>\n</div>", 
                        "text/plain": "  First Name Last Name                        Address                  City  \\\n0      Damon   Chronis          5945 Kensington Drive                 Plano   \n1       John    Rogers           1416 paseo la cresta  Palos Verdes Estates   \n2    Stephen     Swann  4889 SW Greensboro Way  Apt 1             Beaverton   \n3      Kerry     Welsh          26627 Lightfoot Place   RANCHO PALOS VERDES   \n4     Thomas      West        2721 Shoal Creek Circle                 Plano   \n\n  State    Zip      Amount   \n0    TX  75093    5,000.00   \n1    CA  90274    5,000.00   \n2    OR  97007    5,000.00   \n3    CA  90505    5,000.00   \n4    TX  75093    5,000.00   "
                    }, 
                    "execution_count": 4
                }
            ], 
            "execution_count": 4
        }, 
        {
            "cell_type": "code", 
            "metadata": {}, 
            "source": "#Adding the seven important columns from Gary Johnson's submission 2\nJS2 = pd.read_csv(get_object_storage_file_with_credentials_50c277e732e34c2385aa338d22580402('DefaultProjectutsavjainsjsuedu', 'JohnsonSubmission2.xlsx - Final Submission 2.csv'),usecols=[0,2,3,4,5,6,10])\nJS2.head()\n", 
            "outputs": [
                {
                    "metadata": {}, 
                    "output_type": "execute_result", 
                    "data": {
                        "text/html": "<div>\n<table border=\"1\" class=\"dataframe\">\n  <thead>\n    <tr style=\"text-align: right;\">\n      <th></th>\n      <th>First Name</th>\n      <th>Last Name</th>\n      <th>Address</th>\n      <th>City</th>\n      <th>State</th>\n      <th>Zip</th>\n      <th>Amount</th>\n    </tr>\n  </thead>\n  <tbody>\n    <tr>\n      <th>0</th>\n      <td>Kevin</td>\n      <td>Abbott</td>\n      <td>2411 S. Laurel Ave.</td>\n      <td>Sanford</td>\n      <td>FL</td>\n      <td>32771</td>\n      <td>25</td>\n    </tr>\n    <tr>\n      <th>1</th>\n      <td>Linda</td>\n      <td>Abe</td>\n      <td>2911 Royal Glen Dr</td>\n      <td>Kingwood</td>\n      <td>TX</td>\n      <td>77339-1205</td>\n      <td>12</td>\n    </tr>\n    <tr>\n      <th>2</th>\n      <td>Janet</td>\n      <td>Abel</td>\n      <td>360 Bayshore Drive</td>\n      <td>Cicero</td>\n      <td>IN</td>\n      <td>46034</td>\n      <td>25</td>\n    </tr>\n    <tr>\n      <th>3</th>\n      <td>Sharyl</td>\n      <td>Ackerman</td>\n      <td>365 Pine Ridge Dr</td>\n      <td>Bloomfield Hills</td>\n      <td>MI</td>\n      <td>48304</td>\n      <td>250</td>\n    </tr>\n    <tr>\n      <th>4</th>\n      <td>David</td>\n      <td>Ackmann</td>\n      <td>13615 Inwood Rd #160</td>\n      <td>Dallas</td>\n      <td>TX</td>\n      <td>75244</td>\n      <td>25</td>\n    </tr>\n  </tbody>\n</table>\n</div>", 
                        "text/plain": "  First Name Last Name               Address               City State  \\\n0      Kevin    Abbott   2411 S. Laurel Ave.            Sanford    FL   \n1      Linda       Abe    2911 Royal Glen Dr           Kingwood    TX   \n2      Janet      Abel    360 Bayshore Drive             Cicero    IN   \n3     Sharyl  Ackerman     365 Pine Ridge Dr  Bloomfield Hills     MI   \n4      David   Ackmann  13615 Inwood Rd #160             Dallas    TX   \n\n          Zip  Amount   \n0       32771       25  \n1  77339-1205       12  \n2       46034       25  \n3       48304      250  \n4       75244       25  "
                    }, 
                    "execution_count": 5
                }
            ], 
            "execution_count": 5
        }, 
        {
            "cell_type": "code", 
            "metadata": {}, 
            "source": "#Adding the seven important columns from Gary Johnson's submission 3-4\nJS34 = pd.read_csv(get_object_storage_file_with_credentials_50c277e732e34c2385aa338d22580402('DefaultProjectutsavjainsjsuedu', 'JohnsonSubmission3-4.xlsx - Sheet1.csv'), usecols=[1,3,5,6,7,8,12])\nJS34.head()\n", 
            "outputs": [
                {
                    "metadata": {}, 
                    "output_type": "execute_result", 
                    "data": {
                        "text/html": "<div>\n<table border=\"1\" class=\"dataframe\">\n  <thead>\n    <tr style=\"text-align: right;\">\n      <th></th>\n      <th>First Name</th>\n      <th>Last Name</th>\n      <th>Address</th>\n      <th>City</th>\n      <th>State</th>\n      <th>Zip Code</th>\n      <th>Amount</th>\n    </tr>\n  </thead>\n  <tbody>\n    <tr>\n      <th>0</th>\n      <td>R</td>\n      <td>Cronk</td>\n      <td>4532 W. Kennedy Blvd #290</td>\n      <td>Tampa</td>\n      <td>FL</td>\n      <td>33609</td>\n      <td>100.00</td>\n    </tr>\n    <tr>\n      <th>1</th>\n      <td>Heather</td>\n      <td>Trapp</td>\n      <td>7939 Island Road</td>\n      <td>Eden Prairie</td>\n      <td>MN</td>\n      <td>55347</td>\n      <td>20.00</td>\n    </tr>\n    <tr>\n      <th>2</th>\n      <td>Tracy</td>\n      <td>Morton</td>\n      <td>14843 Endicott Way #210</td>\n      <td>Apple Valley</td>\n      <td>MN</td>\n      <td>55124</td>\n      <td>250.00</td>\n    </tr>\n    <tr>\n      <th>3</th>\n      <td>Tony</td>\n      <td>Bergmann-Porter</td>\n      <td>1235 Yale Place #206</td>\n      <td>Minneapolis</td>\n      <td>MN</td>\n      <td>55403</td>\n      <td>200.00</td>\n    </tr>\n    <tr>\n      <th>4</th>\n      <td>Jason</td>\n      <td>Scheurer</td>\n      <td>307 Trinity Court #7</td>\n      <td>Princeton</td>\n      <td>NJ</td>\n      <td>8540</td>\n      <td>500.00</td>\n    </tr>\n  </tbody>\n</table>\n</div>", 
                        "text/plain": "  First Name        Last Name                    Address          City State  \\\n0          R            Cronk  4532 W. Kennedy Blvd #290         Tampa    FL   \n1    Heather            Trapp           7939 Island Road  Eden Prairie    MN   \n2      Tracy           Morton    14843 Endicott Way #210  Apple Valley    MN   \n3       Tony  Bergmann-Porter       1235 Yale Place #206   Minneapolis    MN   \n4      Jason         Scheurer       307 Trinity Court #7     Princeton    NJ   \n\n   Zip Code  Amount  \n0     33609  100.00  \n1     55347   20.00  \n2     55124  250.00  \n3     55403  200.00  \n4      8540  500.00  "
                    }, 
                    "execution_count": 7
                }
            ], 
            "execution_count": 7
        }, 
        {
            "cell_type": "code", 
            "metadata": {}, 
            "source": "#Adding the seven important columns from Gary Johnson's submission 5-6\nJS56 = pd.read_csv(get_object_storage_file_with_credentials_50c277e732e34c2385aa338d22580402('DefaultProjectutsavjainsjsuedu', 'JohnsonSubmission5-6.xlsx - Submission 5-6 As of 11-21-12.csv'), usecols=[1,3,5,6,7,8,12])\nJS56.head()\n", 
            "outputs": [
                {
                    "metadata": {}, 
                    "output_type": "execute_result", 
                    "data": {
                        "text/html": "<div>\n<table border=\"1\" class=\"dataframe\">\n  <thead>\n    <tr style=\"text-align: right;\">\n      <th></th>\n      <th>First Name</th>\n      <th>Last Name</th>\n      <th>Address</th>\n      <th>City</th>\n      <th>State</th>\n      <th>Postal Code</th>\n      <th>Amount</th>\n    </tr>\n  </thead>\n  <tbody>\n    <tr>\n      <th>0</th>\n      <td>Scott</td>\n      <td>Abbate</td>\n      <td>1827 Dartmouth Dr NE #107</td>\n      <td>Albuquerque</td>\n      <td>NM</td>\n      <td>87106</td>\n      <td>50.00</td>\n    </tr>\n    <tr>\n      <th>1</th>\n      <td>Joseph</td>\n      <td>Abbott</td>\n      <td>PO Box 112</td>\n      <td>Olivia</td>\n      <td>NC</td>\n      <td>28368</td>\n      <td>25.00</td>\n    </tr>\n    <tr>\n      <th>2</th>\n      <td>Stephen</td>\n      <td>Abbott</td>\n      <td>PO Box 483</td>\n      <td>Putnam</td>\n      <td>CT</td>\n      <td>6260</td>\n      <td>100.00</td>\n    </tr>\n    <tr>\n      <th>3</th>\n      <td>Brandon</td>\n      <td>Abney</td>\n      <td>5142 Owl Ct</td>\n      <td>West Richland</td>\n      <td>WA</td>\n      <td>99353</td>\n      <td>100.00</td>\n    </tr>\n    <tr>\n      <th>4</th>\n      <td>stephen</td>\n      <td>abrams</td>\n      <td>p.o box 2161</td>\n      <td>kitty hawk</td>\n      <td>NC</td>\n      <td>27949</td>\n      <td>100.00</td>\n    </tr>\n  </tbody>\n</table>\n</div>", 
                        "text/plain": "  First Name Last Name                    Address           City State  \\\n0      Scott    Abbate  1827 Dartmouth Dr NE #107    Albuquerque    NM   \n1     Joseph    Abbott                 PO Box 112         Olivia    NC   \n2    Stephen    Abbott                 PO Box 483         Putnam    CT   \n3    Brandon     Abney                5142 Owl Ct  West Richland    WA   \n4    stephen    abrams               p.o box 2161     kitty hawk    NC   \n\n  Postal Code  Amount  \n0       87106   50.00  \n1       28368   25.00  \n2        6260  100.00  \n3       99353  100.00  \n4       27949  100.00  "
                    }, 
                    "execution_count": 8
                }
            ], 
            "execution_count": 8
        }, 
        {
            "cell_type": "code", 
            "metadata": {}, 
            "source": "#Adding the seven important columns from Gary Johnson's submission 7\nJS7 = pd.read_csv(get_object_storage_file_with_credentials_50c277e732e34c2385aa338d22580402('DefaultProjectutsavjainsjsuedu', 'JohnsonSubmission7.xlsx - Sheet1.csv'), usecols=[1,3,5,6,7,8,12])\nJS7.head()\n", 
            "outputs": [
                {
                    "metadata": {}, 
                    "output_type": "execute_result", 
                    "data": {
                        "text/html": "<div>\n<table border=\"1\" class=\"dataframe\">\n  <thead>\n    <tr style=\"text-align: right;\">\n      <th></th>\n      <th>First Name</th>\n      <th>Last Name</th>\n      <th>Address</th>\n      <th>City</th>\n      <th>State</th>\n      <th>Postal Code</th>\n      <th>Amount</th>\n    </tr>\n  </thead>\n  <tbody>\n    <tr>\n      <th>0</th>\n      <td>Yuri</td>\n      <td>Abashkin</td>\n      <td>34 Hemlock Rd</td>\n      <td>Livingston</td>\n      <td>NJ</td>\n      <td>7039</td>\n      <td>50.00</td>\n    </tr>\n    <tr>\n      <th>1</th>\n      <td>Chad</td>\n      <td>Abbey</td>\n      <td>14023 Kimberley Ln</td>\n      <td>Houston</td>\n      <td>TX</td>\n      <td>77079</td>\n      <td>25.00</td>\n    </tr>\n    <tr>\n      <th>2</th>\n      <td>Elizabeth</td>\n      <td>Abbott</td>\n      <td>126 Hoyt St</td>\n      <td>Buffalo</td>\n      <td>NY</td>\n      <td>14213</td>\n      <td>25.00</td>\n    </tr>\n    <tr>\n      <th>3</th>\n      <td>Joseph</td>\n      <td>Abbott</td>\n      <td>PO Box 112</td>\n      <td>Olivia</td>\n      <td>NC</td>\n      <td>28368</td>\n      <td>25.00</td>\n    </tr>\n    <tr>\n      <th>4</th>\n      <td>Judith</td>\n      <td>Abel</td>\n      <td>200 Diplomat Dr., Apt. 5K</td>\n      <td>Mount Kisco</td>\n      <td>NY</td>\n      <td>10549</td>\n      <td>50.00</td>\n    </tr>\n  </tbody>\n</table>\n</div>", 
                        "text/plain": "  First Name Last Name                    Address         City State  \\\n0       Yuri  Abashkin              34 Hemlock Rd   Livingston    NJ   \n1       Chad     Abbey         14023 Kimberley Ln      Houston    TX   \n2  Elizabeth    Abbott                126 Hoyt St      Buffalo    NY   \n3     Joseph    Abbott                 PO Box 112       Olivia    NC   \n4     Judith      Abel  200 Diplomat Dr., Apt. 5K  Mount Kisco    NY   \n\n  Postal Code   Amount   \n0        7039    50.00   \n1       77079    25.00   \n2       14213    25.00   \n3       28368    25.00   \n4       10549    50.00   "
                    }, 
                    "execution_count": 9
                }
            ], 
            "execution_count": 9
        }, 
        {
            "cell_type": "code", 
            "metadata": {}, 
            "source": "#Adding the seven important columns from Jill Stein's submission 1\nSS1= pd.read_csv(get_object_storage_file_with_credentials_50c277e732e34c2385aa338d22580402('DefaultProjectutsavjainsjsuedu', 'SteinSubmission1.xlsx - Sheet1.csv'), usecols=[1,3,5,8,9,10,13])\nSS1.head()\n", 
            "outputs": [
                {
                    "metadata": {}, 
                    "output_type": "execute_result", 
                    "data": {
                        "text/html": "<div>\n<table border=\"1\" class=\"dataframe\">\n  <thead>\n    <tr style=\"text-align: right;\">\n      <th></th>\n      <th>FirstName</th>\n      <th>LastName</th>\n      <th>Address1</th>\n      <th>City</th>\n      <th>State</th>\n      <th>Zip</th>\n      <th>Amount</th>\n    </tr>\n  </thead>\n  <tbody>\n    <tr>\n      <th>0</th>\n      <td>Elizabeth</td>\n      <td>Ahkivgak</td>\n      <td>1664 Juneau apt D</td>\n      <td>Anchorage</td>\n      <td>AK</td>\n      <td>99501</td>\n      <td>$ 250.00</td>\n    </tr>\n    <tr>\n      <th>1</th>\n      <td>Sam</td>\n      <td>Evans</td>\n      <td>2533 LA Honda Dr</td>\n      <td>Anchorage</td>\n      <td>AK</td>\n      <td>99517</td>\n      <td>$ 20.00</td>\n    </tr>\n    <tr>\n      <th>2</th>\n      <td>robert</td>\n      <td>kupka</td>\n      <td>13660 Fire Creek Trail Trl</td>\n      <td>Eagle River</td>\n      <td>AK</td>\n      <td>99577</td>\n      <td>$ 10.00</td>\n    </tr>\n    <tr>\n      <th>3</th>\n      <td>tyler</td>\n      <td>Mestas</td>\n      <td>PO Box 84253</td>\n      <td>fairbanks</td>\n      <td>AK</td>\n      <td>99708</td>\n      <td>$ 75.00</td>\n    </tr>\n    <tr>\n      <th>4</th>\n      <td>Gary</td>\n      <td>Miller</td>\n      <td>20135 Cohen Dr</td>\n      <td>Juneau</td>\n      <td>AK</td>\n      <td>99801-8211</td>\n      <td>$ 100.00</td>\n    </tr>\n  </tbody>\n</table>\n</div>", 
                        "text/plain": "    FirstName  LastName                    Address1         City State  \\\n0  Elizabeth   Ahkivgak           1664 Juneau apt D    Anchorage    AK   \n1         Sam     Evans            2533 LA Honda Dr    Anchorage    AK   \n2      robert     kupka  13660 Fire Creek Trail Trl  Eagle River    AK   \n3       tyler    Mestas                PO Box 84253    fairbanks    AK   \n4        Gary    Miller              20135 Cohen Dr       Juneau    AK   \n\n          Zip    Amount     \n0       99501    $ 250.00   \n1       99517     $ 20.00   \n2       99577     $ 10.00   \n3       99708     $ 75.00   \n4  99801-8211    $ 100.00   "
                    }, 
                    "execution_count": 10
                }
            ], 
            "execution_count": 10
        }, 
        {
            "cell_type": "code", 
            "metadata": {}, 
            "source": "#Adding the seven important columns from Jill Stein's submission 2\nSS2= pd.read_csv(get_object_storage_file_with_credentials_50c277e732e34c2385aa338d22580402('DefaultProjectutsavjainsjsuedu', 'SteinSubmission2.xlsx - Sheet1.csv'), usecols=[1,2,4,6,7,8,16])\nSS2.head()\n", 
            "outputs": [
                {
                    "metadata": {}, 
                    "output_type": "execute_result", 
                    "data": {
                        "text/html": "<div>\n<table border=\"1\" class=\"dataframe\">\n  <thead>\n    <tr style=\"text-align: right;\">\n      <th></th>\n      <th>FirstName</th>\n      <th>LastName</th>\n      <th>Address1</th>\n      <th>City</th>\n      <th>State</th>\n      <th>Zip</th>\n      <th>Amount</th>\n    </tr>\n  </thead>\n  <tbody>\n    <tr>\n      <th>0</th>\n      <td>Mary</td>\n      <td>Abramson</td>\n      <td>303 1st St S</td>\n      <td>Yelm</td>\n      <td>WA</td>\n      <td>98597</td>\n      <td>$ 100.00</td>\n    </tr>\n    <tr>\n      <th>1</th>\n      <td>Linda</td>\n      <td>Adams</td>\n      <td>11024 Balboa Blvd</td>\n      <td>Granada Hills</td>\n      <td>CA</td>\n      <td>91344</td>\n      <td>$ 20.00</td>\n    </tr>\n    <tr>\n      <th>2</th>\n      <td>Howard T</td>\n      <td>Adcock</td>\n      <td>3403 Galesburg Dr</td>\n      <td>Austin</td>\n      <td>TX</td>\n      <td>78745-5819</td>\n      <td>$ 200.00</td>\n    </tr>\n    <tr>\n      <th>3</th>\n      <td>Steven</td>\n      <td>Adger</td>\n      <td>3132 N Olsen Ave</td>\n      <td>Tucson</td>\n      <td>AZ</td>\n      <td>85719</td>\n      <td>$ 250.00</td>\n    </tr>\n    <tr>\n      <th>4</th>\n      <td>Ronald</td>\n      <td>Adkins</td>\n      <td>718 26th St SE</td>\n      <td>Cedar Rapids</td>\n      <td>IA</td>\n      <td>52403</td>\n      <td>$ 100.00</td>\n    </tr>\n  </tbody>\n</table>\n</div>", 
                        "text/plain": "  FirstName  LastName           Address1           City State         Zip  \\\n0      Mary  Abramson       303 1st St S           Yelm    WA       98597   \n1     Linda     Adams  11024 Balboa Blvd  Granada Hills    CA       91344   \n2  Howard T    Adcock  3403 Galesburg Dr         Austin    TX  78745-5819   \n3    Steven     Adger   3132 N Olsen Ave         Tucson    AZ       85719   \n4    Ronald    Adkins     718 26th St SE   Cedar Rapids    IA       52403   \n\n     Amount     \n0    $ 100.00   \n1     $ 20.00   \n2    $ 200.00   \n3    $ 250.00   \n4    $ 100.00   "
                    }, 
                    "execution_count": 11
                }
            ], 
            "execution_count": 11
        }, 
        {
            "cell_type": "code", 
            "metadata": {}, 
            "source": "#Adding the seven important columns from Jill Stein's submission 3\nSS3 = pd.read_csv(get_object_storage_file_with_credentials_50c277e732e34c2385aa338d22580402('DefaultProjectutsavjainsjsuedu', 'SteinSubmission3.xlsx - Sheet1.csv'), usecols=[1,3,5,8,9,10,14])\nSS3.head()\n", 
            "outputs": [
                {
                    "metadata": {}, 
                    "output_type": "execute_result", 
                    "data": {
                        "text/html": "<div>\n<table border=\"1\" class=\"dataframe\">\n  <thead>\n    <tr style=\"text-align: right;\">\n      <th></th>\n      <th>FirstName</th>\n      <th>LastName</th>\n      <th>Address1</th>\n      <th>City</th>\n      <th>State</th>\n      <th>Zip</th>\n      <th>Amount</th>\n    </tr>\n  </thead>\n  <tbody>\n    <tr>\n      <th>0</th>\n      <td>Christopher</td>\n      <td>Kunzler</td>\n      <td>2816 Telequana Drive A</td>\n      <td>Anchorage</td>\n      <td>AK</td>\n      <td>99517</td>\n      <td>$ 5.00</td>\n    </tr>\n    <tr>\n      <th>1</th>\n      <td>Victoria</td>\n      <td>Leeder</td>\n      <td>2521 Outside Blvd</td>\n      <td>North Pole</td>\n      <td>AK</td>\n      <td>99705</td>\n      <td>$ 25.00</td>\n    </tr>\n    <tr>\n      <th>2</th>\n      <td>Peter</td>\n      <td>Montesano</td>\n      <td>4927 Marion Ave</td>\n      <td>Anchorage</td>\n      <td>AK</td>\n      <td>99508</td>\n      <td>$ 250.00</td>\n    </tr>\n    <tr>\n      <th>3</th>\n      <td>Peter</td>\n      <td>Montesano</td>\n      <td>4927 Marion Ave</td>\n      <td>Anchorage</td>\n      <td>AK</td>\n      <td>99508</td>\n      <td>$ 100.00</td>\n    </tr>\n    <tr>\n      <th>4</th>\n      <td>Gregory</td>\n      <td>Nothstine</td>\n      <td>5304 Cope St</td>\n      <td>Anchorage</td>\n      <td>AK</td>\n      <td>99518</td>\n      <td>$ 25.00</td>\n    </tr>\n  </tbody>\n</table>\n</div>", 
                        "text/plain": "     FirstName   LastName                Address1        City State    Zip  \\\n0  Christopher    Kunzler  2816 Telequana Drive A   Anchorage    AK  99517   \n1     Victoria     Leeder       2521 Outside Blvd  North Pole    AK  99705   \n2        Peter  Montesano         4927 Marion Ave   Anchorage    AK  99508   \n3        Peter  Montesano         4927 Marion Ave   Anchorage    AK  99508   \n4      Gregory  Nothstine            5304 Cope St   Anchorage    AK  99518   \n\n     Amount     \n0      $ 5.00   \n1     $ 25.00   \n2    $ 250.00   \n3    $ 100.00   \n4     $ 25.00   "
                    }, 
                    "execution_count": 13
                }
            ], 
            "execution_count": 13
        }, 
        {
            "cell_type": "code", 
            "metadata": {}, 
            "source": "#Adding the seven important columns from Buddy Roemer's submission 1\nBS1 = pd.read_csv(get_object_storage_file_with_credentials_50c277e732e34c2385aa338d22580402('DefaultProjectutsavjainsjsuedu', 'RoemerSubmission1.xlsx - Submission_.1_Donations.csv'), usecols=[1,3,5,7,8,9,13])\nBS1.head()\n", 
            "outputs": [
                {
                    "metadata": {}, 
                    "output_type": "execute_result", 
                    "data": {
                        "text/html": "<div>\n<table border=\"1\" class=\"dataframe\">\n  <thead>\n    <tr style=\"text-align: right;\">\n      <th></th>\n      <th>FirstName</th>\n      <th>LastName</th>\n      <th>Address1</th>\n      <th>City</th>\n      <th>State</th>\n      <th>Zip5</th>\n      <th>Amount</th>\n    </tr>\n  </thead>\n  <tbody>\n    <tr>\n      <th>0</th>\n      <td>Jerry</td>\n      <td>Nichols</td>\n      <td>15936</td>\n      <td>Forney</td>\n      <td>TX</td>\n      <td>75126</td>\n      <td>100</td>\n    </tr>\n    <tr>\n      <th>1</th>\n      <td>George</td>\n      <td>Schaffer</td>\n      <td>341 Third Street</td>\n      <td>Baton Rouge</td>\n      <td>LA</td>\n      <td>70801</td>\n      <td>100</td>\n    </tr>\n    <tr>\n      <th>2</th>\n      <td>Mark</td>\n      <td>Seymour</td>\n      <td>3003 Benham Ave</td>\n      <td>Elkhart</td>\n      <td>IN</td>\n      <td>46517</td>\n      <td>10</td>\n    </tr>\n    <tr>\n      <th>3</th>\n      <td>Jerry</td>\n      <td>Dyess</td>\n      <td>619 Sword Bridge Dr.</td>\n      <td>Lewisville</td>\n      <td>TX</td>\n      <td>75056</td>\n      <td>25</td>\n    </tr>\n    <tr>\n      <th>4</th>\n      <td>Colette</td>\n      <td>Benge</td>\n      <td>530 Yale Pl</td>\n      <td>Bossier City</td>\n      <td>LA</td>\n      <td>71111</td>\n      <td>100</td>\n    </tr>\n  </tbody>\n</table>\n</div>", 
                        "text/plain": "  FirstName  LastName              Address1          City State   Zip5  Amount\n0     Jerry   Nichols                 15936        Forney    TX  75126     100\n1    George  Schaffer      341 Third Street   Baton Rouge    LA  70801     100\n2      Mark   Seymour       3003 Benham Ave       Elkhart    IN  46517      10\n3     Jerry     Dyess  619 Sword Bridge Dr.    Lewisville    TX  75056      25\n4   Colette     Benge           530 Yale Pl  Bossier City    LA  71111     100"
                    }, 
                    "execution_count": 14
                }
            ], 
            "execution_count": 14
        }, 
        {
            "cell_type": "code", 
            "metadata": {}, 
            "source": "#Adding the seven important columns from Buddy Roemer's submission 2\nBS2 = pd.read_csv(get_object_storage_file_with_credentials_50c277e732e34c2385aa338d22580402('DefaultProjectutsavjainsjsuedu', 'RoemerSubmission2.xlsx - Sheet1.csv'), usecols=[0,2,4,6,7,8,12])\nBS2.head()\n", 
            "outputs": [
                {
                    "metadata": {}, 
                    "output_type": "execute_result", 
                    "data": {
                        "text/html": "<div>\n<table border=\"1\" class=\"dataframe\">\n  <thead>\n    <tr style=\"text-align: right;\">\n      <th></th>\n      <th>FirstName</th>\n      <th>LastName</th>\n      <th>Address1</th>\n      <th>City</th>\n      <th>State</th>\n      <th>Zip5</th>\n      <th>Amount</th>\n    </tr>\n  </thead>\n  <tbody>\n    <tr>\n      <th>0</th>\n      <td>Jeffrey</td>\n      <td>Klotz</td>\n      <td>6015 Fossilwood Ct</td>\n      <td>Erie</td>\n      <td>PA</td>\n      <td>16506</td>\n      <td>50</td>\n    </tr>\n    <tr>\n      <th>1</th>\n      <td>Diane D.</td>\n      <td>Goldman</td>\n      <td>2705 Quaker Lane</td>\n      <td>Plymouth</td>\n      <td>MN</td>\n      <td>55441</td>\n      <td>25</td>\n    </tr>\n    <tr>\n      <th>2</th>\n      <td>Vincent</td>\n      <td>Lisanti</td>\n      <td>PO Box 540</td>\n      <td>Rock Hill</td>\n      <td>NY</td>\n      <td>12775</td>\n      <td>25</td>\n    </tr>\n    <tr>\n      <th>3</th>\n      <td>Sheldon</td>\n      <td>Lichter</td>\n      <td>255 High Street</td>\n      <td>Eugene</td>\n      <td>OR</td>\n      <td>97401</td>\n      <td>15</td>\n    </tr>\n    <tr>\n      <th>4</th>\n      <td>Jason</td>\n      <td>Bowers</td>\n      <td>80 North St</td>\n      <td>Somerville</td>\n      <td>MA</td>\n      <td>02144</td>\n      <td>100</td>\n    </tr>\n  </tbody>\n</table>\n</div>", 
                        "text/plain": "  FirstName LastName            Address1        City State   Zip5  Amount\n0   Jeffrey    Klotz  6015 Fossilwood Ct        Erie    PA  16506      50\n1  Diane D.  Goldman    2705 Quaker Lane    Plymouth    MN  55441      25\n2   Vincent  Lisanti          PO Box 540   Rock Hill    NY  12775      25\n3   Sheldon  Lichter     255 High Street      Eugene    OR  97401      15\n4     Jason   Bowers         80 North St  Somerville    MA  02144     100"
                    }, 
                    "execution_count": 15
                }
            ], 
            "execution_count": 15
        }, 
        {
            "cell_type": "code", 
            "metadata": {
                "collapsed": true
            }, 
            "source": "#Changing column names from a pythn object\ncol_names=['FirstName','LastName','Address1','City','State','ZipCode','Amount']\nJS1.columns=col_names\nJS2.columns=col_names\nJS34.columns=col_names\nJS56.columns=col_names\nJS7.columns=col_names\nSS1.columns=col_names\nSS2.columns=col_names\nSS3.columns=col_names\nBS1.columns=col_names\nBS2.columns=col_names", 
            "outputs": [], 
            "execution_count": 16
        }, 
        {
            "cell_type": "code", 
            "metadata": {}, 
            "source": "#Creating a Master file for Buddy Roemer's campaign finances\n\nBMS = [BS1, BS2]", 
            "outputs": [], 
            "execution_count": 21
        }, 
        {
            "cell_type": "code", 
            "metadata": {}, 
            "source": "BMS = pd.concat(BMS)", 
            "outputs": [], 
            "execution_count": 23
        }, 
        {
            "cell_type": "code", 
            "metadata": {}, 
            "source": "BMS.head()", 
            "outputs": [
                {
                    "metadata": {}, 
                    "output_type": "execute_result", 
                    "data": {
                        "text/html": "<div>\n<table border=\"1\" class=\"dataframe\">\n  <thead>\n    <tr style=\"text-align: right;\">\n      <th></th>\n      <th>FirstName</th>\n      <th>LastName</th>\n      <th>Address1</th>\n      <th>City</th>\n      <th>State</th>\n      <th>ZipCode</th>\n      <th>Amount</th>\n    </tr>\n  </thead>\n  <tbody>\n    <tr>\n      <th>0</th>\n      <td>Jerry</td>\n      <td>Nichols</td>\n      <td>15936</td>\n      <td>Forney</td>\n      <td>TX</td>\n      <td>75126</td>\n      <td>100</td>\n    </tr>\n    <tr>\n      <th>1</th>\n      <td>George</td>\n      <td>Schaffer</td>\n      <td>341 Third Street</td>\n      <td>Baton Rouge</td>\n      <td>LA</td>\n      <td>70801</td>\n      <td>100</td>\n    </tr>\n    <tr>\n      <th>2</th>\n      <td>Mark</td>\n      <td>Seymour</td>\n      <td>3003 Benham Ave</td>\n      <td>Elkhart</td>\n      <td>IN</td>\n      <td>46517</td>\n      <td>10</td>\n    </tr>\n    <tr>\n      <th>3</th>\n      <td>Jerry</td>\n      <td>Dyess</td>\n      <td>619 Sword Bridge Dr.</td>\n      <td>Lewisville</td>\n      <td>TX</td>\n      <td>75056</td>\n      <td>25</td>\n    </tr>\n    <tr>\n      <th>4</th>\n      <td>Colette</td>\n      <td>Benge</td>\n      <td>530 Yale Pl</td>\n      <td>Bossier City</td>\n      <td>LA</td>\n      <td>71111</td>\n      <td>100</td>\n    </tr>\n  </tbody>\n</table>\n</div>", 
                        "text/plain": "  FirstName  LastName              Address1          City State ZipCode  \\\n0     Jerry   Nichols                 15936        Forney    TX   75126   \n1    George  Schaffer      341 Third Street   Baton Rouge    LA   70801   \n2      Mark   Seymour       3003 Benham Ave       Elkhart    IN   46517   \n3     Jerry     Dyess  619 Sword Bridge Dr.    Lewisville    TX   75056   \n4   Colette     Benge           530 Yale Pl  Bossier City    LA   71111   \n\n   Amount  \n0     100  \n1     100  \n2      10  \n3      25  \n4     100  "
                    }, 
                    "execution_count": 24
                }
            ], 
            "execution_count": 24
        }, 
        {
            "cell_type": "code", 
            "metadata": {}, 
            "source": "#Creating a Master file for Jill Stein's campaign finances\nSMS = [SS1, SS2, SS3]\nSMS = pd.concat(SMS)\nSMS.head()", 
            "outputs": [
                {
                    "metadata": {}, 
                    "output_type": "execute_result", 
                    "data": {
                        "text/html": "<div>\n<table border=\"1\" class=\"dataframe\">\n  <thead>\n    <tr style=\"text-align: right;\">\n      <th></th>\n      <th>FirstName</th>\n      <th>LastName</th>\n      <th>Address1</th>\n      <th>City</th>\n      <th>State</th>\n      <th>ZipCode</th>\n      <th>Amount</th>\n    </tr>\n  </thead>\n  <tbody>\n    <tr>\n      <th>0</th>\n      <td>Elizabeth</td>\n      <td>Ahkivgak</td>\n      <td>1664 Juneau apt D</td>\n      <td>Anchorage</td>\n      <td>AK</td>\n      <td>99501</td>\n      <td>$ 250.00</td>\n    </tr>\n    <tr>\n      <th>1</th>\n      <td>Sam</td>\n      <td>Evans</td>\n      <td>2533 LA Honda Dr</td>\n      <td>Anchorage</td>\n      <td>AK</td>\n      <td>99517</td>\n      <td>$ 20.00</td>\n    </tr>\n    <tr>\n      <th>2</th>\n      <td>robert</td>\n      <td>kupka</td>\n      <td>13660 Fire Creek Trail Trl</td>\n      <td>Eagle River</td>\n      <td>AK</td>\n      <td>99577</td>\n      <td>$ 10.00</td>\n    </tr>\n    <tr>\n      <th>3</th>\n      <td>tyler</td>\n      <td>Mestas</td>\n      <td>PO Box 84253</td>\n      <td>fairbanks</td>\n      <td>AK</td>\n      <td>99708</td>\n      <td>$ 75.00</td>\n    </tr>\n    <tr>\n      <th>4</th>\n      <td>Gary</td>\n      <td>Miller</td>\n      <td>20135 Cohen Dr</td>\n      <td>Juneau</td>\n      <td>AK</td>\n      <td>99801-8211</td>\n      <td>$ 100.00</td>\n    </tr>\n  </tbody>\n</table>\n</div>", 
                        "text/plain": "    FirstName  LastName                    Address1         City State  \\\n0  Elizabeth   Ahkivgak           1664 Juneau apt D    Anchorage    AK   \n1         Sam     Evans            2533 LA Honda Dr    Anchorage    AK   \n2      robert     kupka  13660 Fire Creek Trail Trl  Eagle River    AK   \n3       tyler    Mestas                PO Box 84253    fairbanks    AK   \n4        Gary    Miller              20135 Cohen Dr       Juneau    AK   \n\n      ZipCode      Amount  \n0       99501   $ 250.00   \n1       99517    $ 20.00   \n2       99577    $ 10.00   \n3       99708    $ 75.00   \n4  99801-8211   $ 100.00   "
                    }, 
                    "execution_count": 25
                }
            ], 
            "execution_count": 25
        }, 
        {
            "cell_type": "code", 
            "metadata": {}, 
            "source": "#Creating a Master file for Gary Johnson's campaign finances\nJMS = [JS1, JS2, JS34, JS56, JS7]\nJMS = pd.concat(JMS)\nJMS.head()", 
            "outputs": [
                {
                    "metadata": {}, 
                    "output_type": "execute_result", 
                    "data": {
                        "text/html": "<div>\n<table border=\"1\" class=\"dataframe\">\n  <thead>\n    <tr style=\"text-align: right;\">\n      <th></th>\n      <th>FirstName</th>\n      <th>LastName</th>\n      <th>Address1</th>\n      <th>City</th>\n      <th>State</th>\n      <th>ZipCode</th>\n      <th>Amount</th>\n    </tr>\n  </thead>\n  <tbody>\n    <tr>\n      <th>0</th>\n      <td>Damon</td>\n      <td>Chronis</td>\n      <td>5945 Kensington Drive</td>\n      <td>Plano</td>\n      <td>TX</td>\n      <td>75093</td>\n      <td>5,000.00</td>\n    </tr>\n    <tr>\n      <th>1</th>\n      <td>John</td>\n      <td>Rogers</td>\n      <td>1416 paseo la cresta</td>\n      <td>Palos Verdes Estates</td>\n      <td>CA</td>\n      <td>90274</td>\n      <td>5,000.00</td>\n    </tr>\n    <tr>\n      <th>2</th>\n      <td>Stephen</td>\n      <td>Swann</td>\n      <td>4889 SW Greensboro Way  Apt 1</td>\n      <td>Beaverton</td>\n      <td>OR</td>\n      <td>97007</td>\n      <td>5,000.00</td>\n    </tr>\n    <tr>\n      <th>3</th>\n      <td>Kerry</td>\n      <td>Welsh</td>\n      <td>26627 Lightfoot Place</td>\n      <td>RANCHO PALOS VERDES</td>\n      <td>CA</td>\n      <td>90505</td>\n      <td>5,000.00</td>\n    </tr>\n    <tr>\n      <th>4</th>\n      <td>Thomas</td>\n      <td>West</td>\n      <td>2721 Shoal Creek Circle</td>\n      <td>Plano</td>\n      <td>TX</td>\n      <td>75093</td>\n      <td>5,000.00</td>\n    </tr>\n  </tbody>\n</table>\n</div>", 
                        "text/plain": "  FirstName LastName                       Address1                  City  \\\n0     Damon  Chronis          5945 Kensington Drive                 Plano   \n1      John   Rogers           1416 paseo la cresta  Palos Verdes Estates   \n2   Stephen    Swann  4889 SW Greensboro Way  Apt 1             Beaverton   \n3     Kerry    Welsh          26627 Lightfoot Place   RANCHO PALOS VERDES   \n4    Thomas     West        2721 Shoal Creek Circle                 Plano   \n\n  State ZipCode       Amount  \n0    TX   75093    5,000.00   \n1    CA   90274    5,000.00   \n2    OR   97007    5,000.00   \n3    CA   90505    5,000.00   \n4    TX   75093    5,000.00   "
                    }, 
                    "execution_count": 26
                }
            ], 
            "execution_count": 26
        }, 
        {
            "cell_type": "code", 
            "metadata": {}, 
            "source": "#Verify the names of columns\nJMS.columns", 
            "outputs": [
                {
                    "metadata": {}, 
                    "output_type": "execute_result", 
                    "data": {
                        "text/plain": "Index([u'FirstName', u'LastName', u'Address1', u'City', u'State', u'ZipCode',\n       u'Amount'],\n      dtype='object')"
                    }, 
                    "execution_count": 28
                }
            ], 
            "execution_count": 28
        }, 
        {
            "cell_type": "code", 
            "metadata": {}, 
            "source": "#Verify the names of columns\nSMS.columns", 
            "outputs": [
                {
                    "metadata": {}, 
                    "output_type": "execute_result", 
                    "data": {
                        "text/plain": "Index([u'FirstName', u'LastName', u'Address1', u'City', u'State', u'ZipCode',\n       u'Amount'],\n      dtype='object')"
                    }, 
                    "execution_count": 29
                }
            ], 
            "execution_count": 29
        }, 
        {
            "cell_type": "code", 
            "metadata": {}, 
            "source": "#Verify the names of columns\nBMS.columns", 
            "outputs": [
                {
                    "metadata": {}, 
                    "output_type": "execute_result", 
                    "data": {
                        "text/plain": "Index([u'FirstName', u'LastName', u'Address1', u'City', u'State', u'ZipCode',\n       u'Amount'],\n      dtype='object')"
                    }, 
                    "execution_count": 30
                }
            ], 
            "execution_count": 30
        }, 
        {
            "cell_type": "code", 
            "metadata": {}, 
            "source": "#Numeric description of Gary Johnson's campaign's master DataFrame's columns with object datatype\nJMS.describe()", 
            "outputs": [
                {
                    "metadata": {}, 
                    "output_type": "execute_result", 
                    "data": {
                        "text/html": "<div>\n<table border=\"1\" class=\"dataframe\">\n  <thead>\n    <tr style=\"text-align: right;\">\n      <th></th>\n      <th>FirstName</th>\n      <th>LastName</th>\n      <th>Address1</th>\n      <th>City</th>\n      <th>State</th>\n      <th>ZipCode</th>\n      <th>Amount</th>\n    </tr>\n  </thead>\n  <tbody>\n    <tr>\n      <th>count</th>\n      <td>11661</td>\n      <td>11660</td>\n      <td>11650</td>\n      <td>11642</td>\n      <td>11641</td>\n      <td>11644</td>\n      <td>11661</td>\n    </tr>\n    <tr>\n      <th>unique</th>\n      <td>2141</td>\n      <td>6233</td>\n      <td>8941</td>\n      <td>3729</td>\n      <td>51</td>\n      <td>5510</td>\n      <td>279</td>\n    </tr>\n    <tr>\n      <th>top</th>\n      <td>John</td>\n      <td>Johnson</td>\n      <td>6966 N. Sheridan, 2B</td>\n      <td>Albuquerque</td>\n      <td>CA</td>\n      <td>87111</td>\n      <td>25.00</td>\n    </tr>\n    <tr>\n      <th>freq</th>\n      <td>331</td>\n      <td>70</td>\n      <td>24</td>\n      <td>324</td>\n      <td>1440</td>\n      <td>56</td>\n      <td>2695</td>\n    </tr>\n  </tbody>\n</table>\n</div>", 
                        "text/plain": "       FirstName LastName              Address1         City  State ZipCode  \\\ncount      11661    11660                 11650        11642  11641   11644   \nunique      2141     6233                  8941         3729     51    5510   \ntop         John  Johnson  6966 N. Sheridan, 2B  Albuquerque     CA   87111   \nfreq         331       70                    24          324   1440      56   \n\n          Amount  \ncount      11661  \nunique       279  \ntop       25.00   \nfreq        2695  "
                    }, 
                    "execution_count": 31
                }
            ], 
            "execution_count": 31
        }, 
        {
            "cell_type": "code", 
            "metadata": {}, 
            "source": "#Numeric description of Jill Steins's campaign's master DataFrame's columns with object datatype\nSMS.describe()", 
            "outputs": [
                {
                    "metadata": {}, 
                    "output_type": "execute_result", 
                    "data": {
                        "text/html": "<div>\n<table border=\"1\" class=\"dataframe\">\n  <thead>\n    <tr style=\"text-align: right;\">\n      <th></th>\n      <th>FirstName</th>\n      <th>LastName</th>\n      <th>Address1</th>\n      <th>City</th>\n      <th>State</th>\n      <th>ZipCode</th>\n      <th>Amount</th>\n    </tr>\n  </thead>\n  <tbody>\n    <tr>\n      <th>count</th>\n      <td>7127</td>\n      <td>7127</td>\n      <td>7127</td>\n      <td>7127</td>\n      <td>7127</td>\n      <td>7126</td>\n      <td>7127</td>\n    </tr>\n    <tr>\n      <th>unique</th>\n      <td>1787</td>\n      <td>3989</td>\n      <td>5163</td>\n      <td>2237</td>\n      <td>52</td>\n      <td>3365</td>\n      <td>110</td>\n    </tr>\n    <tr>\n      <th>top</th>\n      <td>John</td>\n      <td>Smith</td>\n      <td>63 Westgate Cir</td>\n      <td>Washington</td>\n      <td>CA</td>\n      <td>53703</td>\n      <td>$ 25.00</td>\n    </tr>\n    <tr>\n      <th>freq</th>\n      <td>197</td>\n      <td>42</td>\n      <td>21</td>\n      <td>109</td>\n      <td>962</td>\n      <td>30</td>\n      <td>1472</td>\n    </tr>\n  </tbody>\n</table>\n</div>", 
                        "text/plain": "       FirstName LastName         Address1        City State ZipCode  \\\ncount       7127     7127             7127        7127  7127    7126   \nunique      1787     3989             5163        2237    52    3365   \ntop         John    Smith  63 Westgate Cir  Washington    CA   53703   \nfreq         197       42               21         109   962      30   \n\n           Amount  \ncount        7127  \nunique        110  \ntop      $ 25.00   \nfreq         1472  "
                    }, 
                    "execution_count": 32
                }
            ], 
            "execution_count": 32
        }, 
        {
            "cell_type": "code", 
            "metadata": {}, 
            "source": "#Numeric description of Buddy Roemer's campaign's master DataFrame's columns with numeric datatype\nBMS.describe()", 
            "outputs": [
                {
                    "metadata": {}, 
                    "output_type": "execute_result", 
                    "data": {
                        "text/html": "<div>\n<table border=\"1\" class=\"dataframe\">\n  <thead>\n    <tr style=\"text-align: right;\">\n      <th></th>\n      <th>Amount</th>\n    </tr>\n  </thead>\n  <tbody>\n    <tr>\n      <th>count</th>\n      <td>5692.000000</td>\n    </tr>\n    <tr>\n      <th>mean</th>\n      <td>63.042807</td>\n    </tr>\n    <tr>\n      <th>std</th>\n      <td>38.655923</td>\n    </tr>\n    <tr>\n      <th>min</th>\n      <td>1.000000</td>\n    </tr>\n    <tr>\n      <th>25%</th>\n      <td>25.000000</td>\n    </tr>\n    <tr>\n      <th>50%</th>\n      <td>75.000000</td>\n    </tr>\n    <tr>\n      <th>75%</th>\n      <td>100.000000</td>\n    </tr>\n    <tr>\n      <th>max</th>\n      <td>200.000000</td>\n    </tr>\n  </tbody>\n</table>\n</div>", 
                        "text/plain": "            Amount\ncount  5692.000000\nmean     63.042807\nstd      38.655923\nmin       1.000000\n25%      25.000000\n50%      75.000000\n75%     100.000000\nmax     200.000000"
                    }, 
                    "execution_count": 33
                }
            ], 
            "execution_count": 33
        }, 
        {
            "cell_type": "code", 
            "metadata": {}, 
            "source": "#Schema of Gary Johnson's campaign's master DataFrame\nJMS.dtypes", 
            "outputs": [
                {
                    "metadata": {}, 
                    "output_type": "execute_result", 
                    "data": {
                        "text/plain": "FirstName     object\nLastName      object\nAddress1      object\nCity          object\nState         object\nZipCode       object\nAmount       float64\ndtype: object"
                    }, 
                    "execution_count": 35
                }
            ], 
            "execution_count": 35
        }, 
        {
            "cell_type": "code", 
            "metadata": {}, 
            "source": "#Schema of Jill Stein's campaign's master DataFrame\nSMS.dtypes", 
            "outputs": [
                {
                    "metadata": {}, 
                    "output_type": "execute_result", 
                    "data": {
                        "text/plain": "FirstName    object\nLastName     object\nAddress1     object\nCity         object\nState        object\nZipCode      object\nAmount       object\ndtype: object"
                    }, 
                    "execution_count": 36
                }
            ], 
            "execution_count": 36
        }, 
        {
            "cell_type": "code", 
            "metadata": {}, 
            "source": "#Schema of Buddy Roemer's campaign's master DataFrame\nBMS.dtypes", 
            "outputs": [
                {
                    "metadata": {}, 
                    "output_type": "execute_result", 
                    "data": {
                        "text/plain": "FirstName     object\nLastName      object\nAddress1      object\nCity          object\nState         object\nZipCode       object\nAmount       float64\ndtype: object"
                    }, 
                    "execution_count": 37
                }
            ], 
            "execution_count": 37
        }, 
        {
            "cell_type": "code", 
            "metadata": {}, 
            "source": "#Sanitizing master DataFrames of all the candidates. Removing rows which has either of the following columns\n#as Nan : FirstName, Address1, City, State, ZipCode, Amount\nJMS.dropna(subset = ['FirstName', 'Address1', 'City', 'State', 'ZipCode', 'Amount'], how = 'any', inplace=True)\nSMS.dropna(subset = ['FirstName', 'Address1', 'City', 'State', 'ZipCode', 'Amount'], how = 'any', inplace=True)\nBMS.dropna(subset = ['FirstName', 'Address1', 'City', 'State', 'ZipCode', 'Amount'], how = 'any', inplace=True)", 
            "outputs": [], 
            "execution_count": 40
        }, 
        {
            "cell_type": "code", 
            "metadata": {}, 
            "source": "#Gary Johnson's Master DataFrame's shape\n\nJMS.shape", 
            "outputs": [
                {
                    "metadata": {}, 
                    "output_type": "execute_result", 
                    "data": {
                        "text/plain": "(11639, 7)"
                    }, 
                    "execution_count": 44
                }
            ], 
            "execution_count": 44
        }, 
        {
            "cell_type": "code", 
            "metadata": {}, 
            "source": "#Jill Stein's Master DataFrame's shape\n\nSMS.shape", 
            "outputs": [
                {
                    "metadata": {}, 
                    "output_type": "execute_result", 
                    "data": {
                        "text/plain": "(7126, 7)"
                    }, 
                    "execution_count": 42
                }
            ], 
            "execution_count": 42
        }, 
        {
            "cell_type": "code", 
            "metadata": {}, 
            "source": "#Buddy Roemer's Master DataFrame's shape\n\nBMS.shape", 
            "outputs": [
                {
                    "metadata": {}, 
                    "output_type": "execute_result", 
                    "data": {
                        "text/plain": "(5692, 7)"
                    }, 
                    "execution_count": 43
                }
            ], 
            "execution_count": 43
        }, 
        {
            "cell_type": "code", 
            "metadata": {}, 
            "source": "#Sanitizing Gary Johnson's donor data. Removing ,' signs\n\nJMS['Amount'] = JMS['Amount'].str.replace(',','').astype(float)", 
            "outputs": [], 
            "execution_count": 46
        }, 
        {
            "cell_type": "code", 
            "metadata": {
                "collapsed": true
            }, 
            "source": "#Sanitizing Jill Stein's donor data. Removing '$' and ',' signs\n\nSMS['Amount'] = SMS['Amount'].str.replace('$','').str.replace(',','').astype(float)", 
            "outputs": [], 
            "execution_count": 47
        }, 
        {
            "cell_type": "code", 
            "metadata": {}, 
            "source": "#Top 5 donors to the Gary Johnson Campaign\n\nJMS.groupby(['FirstName', 'LastName', 'Address1','ZipCode']).Amount.agg(['sum', 'max']).sort_values('sum', ascending = False).head()", 
            "outputs": [
                {
                    "metadata": {}, 
                    "output_type": "execute_result", 
                    "data": {
                        "text/html": "<div>\n<table border=\"1\" class=\"dataframe\">\n  <thead>\n    <tr style=\"text-align: right;\">\n      <th></th>\n      <th></th>\n      <th></th>\n      <th></th>\n      <th>sum</th>\n      <th>max</th>\n    </tr>\n    <tr>\n      <th>FirstName</th>\n      <th>LastName</th>\n      <th>Address1</th>\n      <th>ZipCode</th>\n      <th></th>\n      <th></th>\n    </tr>\n  </thead>\n  <tbody>\n    <tr>\n      <th>Will</th>\n      <th>Murphy</th>\n      <th>2040 Pollk Street</th>\n      <th>33020</th>\n      <td>5000</td>\n      <td>5000</td>\n    </tr>\n    <tr>\n      <th>Stephen</th>\n      <th>Swann</th>\n      <th>4889 SW Greensboro Way  Apt 1</th>\n      <th>97007</th>\n      <td>5000</td>\n      <td>5000</td>\n    </tr>\n    <tr>\n      <th>Brett</th>\n      <th>Wilhelm</th>\n      <th>PO Box 940</th>\n      <th>98249-0940</th>\n      <td>5000</td>\n      <td>5000</td>\n    </tr>\n    <tr>\n      <th>Thomas</th>\n      <th>West</th>\n      <th>2721 Shoal Creek Circle</th>\n      <th>75093</th>\n      <td>5000</td>\n      <td>5000</td>\n    </tr>\n    <tr>\n      <th>Sameer</th>\n      <th>Parekh</th>\n      <th>1 Hanson Pl #12G</th>\n      <th>11243-2919</th>\n      <td>5000</td>\n      <td>5000</td>\n    </tr>\n  </tbody>\n</table>\n</div>", 
                        "text/plain": "                                                              sum   max\nFirstName LastName Address1                      ZipCode               \nWill      Murphy   2040 Pollk Street             33020       5000  5000\nStephen   Swann    4889 SW Greensboro Way  Apt 1 97007       5000  5000\nBrett     Wilhelm  PO Box 940                    98249-0940  5000  5000\nThomas    West     2721 Shoal Creek Circle       75093       5000  5000\nSameer    Parekh   1 Hanson Pl #12G              11243-2919  5000  5000"
                    }, 
                    "execution_count": 54
                }
            ], 
            "execution_count": 54
        }, 
        {
            "cell_type": "code", 
            "metadata": {}, 
            "source": "##Top 5 donors to the Jill Stein Campaign\n\nSMS.groupby(['FirstName', 'LastName', 'Address1','ZipCode']).Amount.agg(['sum', 'max']).sort_values('sum', ascending = False).head()", 
            "outputs": [
                {
                    "metadata": {}, 
                    "output_type": "execute_result", 
                    "data": {
                        "text/html": "<div>\n<table border=\"1\" class=\"dataframe\">\n  <thead>\n    <tr style=\"text-align: right;\">\n      <th></th>\n      <th></th>\n      <th></th>\n      <th></th>\n      <th>sum</th>\n      <th>max</th>\n    </tr>\n    <tr>\n      <th>FirstName</th>\n      <th>LastName</th>\n      <th>Address1</th>\n      <th>ZipCode</th>\n      <th></th>\n      <th></th>\n    </tr>\n  </thead>\n  <tbody>\n    <tr>\n      <th>Sanda</th>\n      <th>Everette</th>\n      <th>3329 Los Prados St</th>\n      <th>94403</th>\n      <td>2850</td>\n      <td>1000</td>\n    </tr>\n    <tr>\n      <th>David</th>\n      <th>Rohrlich</th>\n      <th>18 Arborway</th>\n      <th>2130</th>\n      <td>2650</td>\n      <td>950</td>\n    </tr>\n    <tr>\n      <th>Clay</th>\n      <th>Kirk</th>\n      <th>320 E 72 St</th>\n      <th>10021</th>\n      <td>2500</td>\n      <td>2500</td>\n    </tr>\n    <tr>\n      <th>Morton</th>\n      <th>Brooks</th>\n      <th>1633 E Virginia Ave</th>\n      <th>80209</th>\n      <td>2500</td>\n      <td>2500</td>\n    </tr>\n    <tr>\n      <th>Garrett</th>\n      <th>Kirk</th>\n      <th>320 East 72nd Street</th>\n      <th>10021</th>\n      <td>2500</td>\n      <td>2500</td>\n    </tr>\n  </tbody>\n</table>\n</div>", 
                        "text/plain": "                                                  sum   max\nFirstName LastName Address1             ZipCode            \nSanda     Everette 3329 Los Prados St   94403    2850  1000\nDavid     Rohrlich 18 Arborway          2130     2650   950\nClay      Kirk     320 E 72 St          10021    2500  2500\nMorton    Brooks   1633 E Virginia Ave  80209    2500  2500\nGarrett   Kirk     320 East 72nd Street 10021    2500  2500"
                    }, 
                    "execution_count": 55
                }
            ], 
            "execution_count": 55
        }, 
        {
            "cell_type": "code", 
            "metadata": {}, 
            "source": "#Top 5 donors to the Buddy Roemer Campaign\nBMS.groupby(['FirstName', 'LastName', 'Address1','ZipCode']).Amount.agg(['sum', 'max']).sort_values('sum', ascending = False).head()", 
            "outputs": [
                {
                    "metadata": {}, 
                    "output_type": "execute_result", 
                    "data": {
                        "text/html": "<div>\n<table border=\"1\" class=\"dataframe\">\n  <thead>\n    <tr style=\"text-align: right;\">\n      <th></th>\n      <th></th>\n      <th></th>\n      <th></th>\n      <th>sum</th>\n      <th>max</th>\n    </tr>\n    <tr>\n      <th>FirstName</th>\n      <th>LastName</th>\n      <th>Address1</th>\n      <th>ZipCode</th>\n      <th></th>\n      <th></th>\n    </tr>\n  </thead>\n  <tbody>\n    <tr>\n      <th>Joe</th>\n      <th>Averett</th>\n      <th>11000 Seville Quarters</th>\n      <th>71106</th>\n      <td>200</td>\n      <td>200</td>\n    </tr>\n    <tr>\n      <th>Robert</th>\n      <th>Offord</th>\n      <th>5110 Harmony Lane</th>\n      <th>91941</th>\n      <td>200</td>\n      <td>100</td>\n    </tr>\n    <tr>\n      <th>Paul</th>\n      <th>Meyer-Strom</th>\n      <th>4723 SW 50th</th>\n      <th>97221</th>\n      <td>200</td>\n      <td>100</td>\n    </tr>\n    <tr>\n      <th>Al</th>\n      <th>Brasuell</th>\n      <th>120 Lanes End</th>\n      <th>71227</th>\n      <td>200</td>\n      <td>200</td>\n    </tr>\n    <tr>\n      <th>Edmond</th>\n      <th>Henson</th>\n      <th>175 Lakeshore Court</th>\n      <th>39110</th>\n      <td>200</td>\n      <td>100</td>\n    </tr>\n  </tbody>\n</table>\n</div>", 
                        "text/plain": "                                                      sum  max\nFirstName LastName    Address1               ZipCode          \nJoe       Averett     11000 Seville Quarters 71106    200  200\nRobert    Offord      5110 Harmony Lane      91941    200  100\nPaul      Meyer-Strom 4723 SW 50th           97221    200  100\nAl        Brasuell    120 Lanes End          71227    200  200\nEdmond    Henson      175 Lakeshore Court    39110    200  100"
                    }, 
                    "execution_count": 56
                }
            ], 
            "execution_count": 56
        }, 
        {
            "cell_type": "code", 
            "metadata": {}, 
            "source": "#Making a master DataFrame to store records of donations to all campaigns\nCMS = [JMS, SMS, BMS]\nCMS = pd.concat(CMS)\nCMS.head()", 
            "outputs": [
                {
                    "metadata": {}, 
                    "output_type": "execute_result", 
                    "data": {
                        "text/html": "<div>\n<table border=\"1\" class=\"dataframe\">\n  <thead>\n    <tr style=\"text-align: right;\">\n      <th></th>\n      <th>FirstName</th>\n      <th>LastName</th>\n      <th>Address1</th>\n      <th>City</th>\n      <th>State</th>\n      <th>ZipCode</th>\n      <th>Amount</th>\n    </tr>\n  </thead>\n  <tbody>\n    <tr>\n      <th>0</th>\n      <td>Damon</td>\n      <td>Chronis</td>\n      <td>5945 Kensington Drive</td>\n      <td>Plano</td>\n      <td>TX</td>\n      <td>75093</td>\n      <td>5000</td>\n    </tr>\n    <tr>\n      <th>1</th>\n      <td>John</td>\n      <td>Rogers</td>\n      <td>1416 paseo la cresta</td>\n      <td>Palos Verdes Estates</td>\n      <td>CA</td>\n      <td>90274</td>\n      <td>5000</td>\n    </tr>\n    <tr>\n      <th>2</th>\n      <td>Stephen</td>\n      <td>Swann</td>\n      <td>4889 SW Greensboro Way  Apt 1</td>\n      <td>Beaverton</td>\n      <td>OR</td>\n      <td>97007</td>\n      <td>5000</td>\n    </tr>\n    <tr>\n      <th>3</th>\n      <td>Kerry</td>\n      <td>Welsh</td>\n      <td>26627 Lightfoot Place</td>\n      <td>RANCHO PALOS VERDES</td>\n      <td>CA</td>\n      <td>90505</td>\n      <td>5000</td>\n    </tr>\n    <tr>\n      <th>4</th>\n      <td>Thomas</td>\n      <td>West</td>\n      <td>2721 Shoal Creek Circle</td>\n      <td>Plano</td>\n      <td>TX</td>\n      <td>75093</td>\n      <td>5000</td>\n    </tr>\n  </tbody>\n</table>\n</div>", 
                        "text/plain": "  FirstName LastName                       Address1                  City  \\\n0     Damon  Chronis          5945 Kensington Drive                 Plano   \n1      John   Rogers           1416 paseo la cresta  Palos Verdes Estates   \n2   Stephen    Swann  4889 SW Greensboro Way  Apt 1             Beaverton   \n3     Kerry    Welsh          26627 Lightfoot Place   RANCHO PALOS VERDES   \n4    Thomas     West        2721 Shoal Creek Circle                 Plano   \n\n  State ZipCode  Amount  \n0    TX   75093    5000  \n1    CA   90274    5000  \n2    OR   97007    5000  \n3    CA   90505    5000  \n4    TX   75093    5000  "
                    }, 
                    "execution_count": 57
                }
            ], 
            "execution_count": 57
        }, 
        {
            "cell_type": "code", 
            "metadata": {}, 
            "source": "#Top 5 donors from the campaign data\nCMS.groupby(['FirstName', 'LastName', 'Address1','ZipCode']).Amount.agg(['sum', 'max']).sort_values('sum', ascending = False).head()", 
            "outputs": [
                {
                    "metadata": {}, 
                    "output_type": "execute_result", 
                    "data": {
                        "text/html": "<div>\n<table border=\"1\" class=\"dataframe\">\n  <thead>\n    <tr style=\"text-align: right;\">\n      <th></th>\n      <th></th>\n      <th></th>\n      <th></th>\n      <th>sum</th>\n      <th>max</th>\n    </tr>\n    <tr>\n      <th>FirstName</th>\n      <th>LastName</th>\n      <th>Address1</th>\n      <th>ZipCode</th>\n      <th></th>\n      <th></th>\n    </tr>\n  </thead>\n  <tbody>\n    <tr>\n      <th>John</th>\n      <th>Salvette</th>\n      <th>2016 Devonshire Rd</th>\n      <th>48104</th>\n      <td>5000</td>\n      <td>2500</td>\n    </tr>\n    <tr>\n      <th>Thomas</th>\n      <th>West</th>\n      <th>2721 Shoal Creek Circle</th>\n      <th>75093</th>\n      <td>5000</td>\n      <td>5000</td>\n    </tr>\n    <tr>\n      <th>Sameer</th>\n      <th>Parekh</th>\n      <th>1 Hanson Pl #12G</th>\n      <th>11243-2919</th>\n      <td>5000</td>\n      <td>5000</td>\n    </tr>\n    <tr>\n      <th>John</th>\n      <th>Rogers</th>\n      <th>1416 paseo la cresta</th>\n      <th>90274</th>\n      <td>5000</td>\n      <td>5000</td>\n    </tr>\n    <tr>\n      <th>Harland</th>\n      <th>Macia</th>\n      <th>PO Box 343</th>\n      <th>3276</th>\n      <td>5000</td>\n      <td>5000</td>\n    </tr>\n  </tbody>\n</table>\n</div>", 
                        "text/plain": "                                                        sum   max\nFirstName LastName Address1                ZipCode               \nJohn      Salvette 2016 Devonshire Rd      48104       5000  2500\nThomas    West     2721 Shoal Creek Circle 75093       5000  5000\nSameer    Parekh   1 Hanson Pl #12G        11243-2919  5000  5000\nJohn      Rogers   1416 paseo la cresta    90274       5000  5000\nHarland   Macia    PO Box 343              3276        5000  5000"
                    }, 
                    "execution_count": 61
                }
            ], 
            "execution_count": 61
        }, 
        {
            "cell_type": "code", 
            "metadata": {}, 
            "source": "#Generates graph to show the top five states which contributed to the Garry Johnson campaign\n%matplotlib inline\nJMS.groupby('State').Amount.agg(['sum']).sort_values('sum', ascending = False).head().plot(kind = 'bar')", 
            "outputs": [
                {
                    "metadata": {}, 
                    "output_type": "execute_result", 
                    "data": {
                        "text/plain": "<matplotlib.axes._subplots.AxesSubplot at 0x7fe8e3f1cdd0>"
                    }, 
                    "execution_count": 72
                }, 
                {
                    "metadata": {}, 
                    "output_type": "display_data", 
                    "data": {
                        "image/png": "[encoded data removed]", 
                        "text/plain": "<matplotlib.figure.Figure at 0x7fe8e3efa9d0>"
                    }
                }
            ], 
            "execution_count": 72
        }, 
        {
            "cell_type": "code", 
            "metadata": {}, 
            "source": "#Generates graph to show the top five states which contributed to the Jill Stein campaign \nSMS.groupby('State').Amount.agg(['sum']).sort_values('sum', ascending = False).head().plot(kind = 'bar')", 
            "outputs": [
                {
                    "metadata": {}, 
                    "output_type": "execute_result", 
                    "data": {
                        "text/plain": "<matplotlib.axes._subplots.AxesSubplot at 0x7fe8e3c936d0>"
                    }, 
                    "execution_count": 73
                }, 
                {
                    "metadata": {}, 
                    "output_type": "display_data", 
                    "data": {
                        "image/png": "[encoded data removed]", 
                        "text/plain": "<matplotlib.figure.Figure at 0x7fe8e3ba5a90>"
                    }
                }
            ], 
            "execution_count": 73
        }, 
        {
            "cell_type": "code", 
            "metadata": {}, 
            "source": "#Generates graph to show the top five states which contributed to the Buddy Roemer campaign \nBMS.groupby('State').Amount.agg(['sum']).sort_values('sum', ascending = False).head().plot(kind = 'bar')", 
            "outputs": [
                {
                    "metadata": {}, 
                    "output_type": "execute_result", 
                    "data": {
                        "text/plain": "<matplotlib.axes._subplots.AxesSubplot at 0x7fe8e0b34650>"
                    }, 
                    "execution_count": 74
                }, 
                {
                    "metadata": {}, 
                    "output_type": "display_data", 
                    "data": {
                        "image/png": "[encoded data removed]", 
                        "text/plain": "<matplotlib.figure.Figure at 0x7fe8ea675fd0>"
                    }
                }
            ], 
            "execution_count": 74
        }, 
        {
            "cell_type": "code", 
            "metadata": {}, 
            "source": "#Generates graph to show the top five states which contributed to all the campaigns \nCMS.groupby('State').Amount.agg(['sum']).sort_values('sum', ascending = False).head().plot(kind = 'bar')", 
            "outputs": [
                {
                    "metadata": {}, 
                    "output_type": "execute_result", 
                    "data": {
                        "text/plain": "<matplotlib.axes._subplots.AxesSubplot at 0x7fe8e0b3df90>"
                    }, 
                    "execution_count": 76
                }, 
                {
                    "metadata": {}, 
                    "output_type": "display_data", 
                    "data": {
                        "image/png": "[encoded data removed]", 
                        "text/plain": "<matplotlib.figure.Figure at 0x7fe8e096ff50>"
                    }
                }
            ], 
            "execution_count": 76
        }, 
        {
            "cell_type": "code", 
            "metadata": {
                "collapsed": true
            }, 
            "source": "", 
            "outputs": [], 
            "execution_count": null
        }
    ], 
    "metadata": {
        "kernelspec": {
            "display_name": "Python 2 with Spark 2.0", 
            "name": "python2-spark20", 
            "language": "python"
        }, 
        "language_info": {
            "mimetype": "text/x-python", 
            "name": "python", 
            "pygments_lexer": "ipython2", 
            "codemirror_mode": {
                "version": 2, 
                "name": "ipython"
            }, 
            "file_extension": ".py", 
            "version": "2.7.11", 
            "nbconvert_exporter": "python"
        }
    }, 
    "nbformat_minor": 1, 
    "nbformat": 4
}